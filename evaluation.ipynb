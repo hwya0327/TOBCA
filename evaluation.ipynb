{
 "cells": [
  {
   "cell_type": "code",
   "execution_count": null,
   "metadata": {},
   "outputs": [
    {
     "name": "stdout",
     "output_type": "stream",
     "text": [
      "INFO: Pandarallel will run on 8 workers.\n",
      "INFO: Pandarallel will use standard multiprocessing data transfer (pipe) to transfer data between the main process and workers.\n",
      "\n",
      "WARNING: You are on Windows. If you detect any issue with pandarallel, be sure you checked out the Troubleshooting page:\n",
      "https://nalepae.github.io/pandarallel/troubleshooting/\n"
     ]
    }
   ],
   "source": [
    "import json\n",
    "import torch\n",
    "import module\n",
    "import seaborn as sns\n",
    "import matplotlib.pyplot as plt\n",
    "from torch.utils.data import DataLoader\n",
    "from module import AKIPredictionModel, test\n",
    "from sklearn.calibration import calibration_curve"
   ]
  },
  {
   "cell_type": "code",
   "execution_count": 9,
   "metadata": {},
   "outputs": [],
   "source": [
    "device = torch.device('cuda:0' if torch.cuda.is_available() else 'cpu')\n",
    "torch.backends.cudnn.allow_tf32 = True"
   ]
  },
  {
   "cell_type": "markdown",
   "metadata": {},
   "source": [
    "Data"
   ]
  },
  {
   "cell_type": "code",
   "execution_count": null,
   "metadata": {},
   "outputs": [],
   "source": [
    "calibration_dataset = torch.load(\"processed/datasets.pt\")['ABC']['calibration']\n",
    "test_dataset = torch.load(\"processed/datasets.pt\")['ABC']['test']\n",
    "\n",
    "dataloaders = []\n",
    "dataset_names = [\"calibration\", \"test\"]\n",
    "\n",
    "for name in dataset_names:\n",
    "    dataloader = DataLoader(eval(name + \"_dataset\"), batch_size=1, shuffle=True, drop_last=False)\n",
    "    dataloaders.append(dataloader)\n",
    "\n",
    "calibration_dataloader, test_dataloader = dataloaders"
   ]
  },
  {
   "cell_type": "code",
   "execution_count": null,
   "metadata": {},
   "outputs": [],
   "source": [
    "device = torch.device(\"cuda\" if torch.cuda.is_available() else \"cpu\")\n",
    "\n",
    "with open(\"model/best_params.json\", \"r\") as fp:\n",
    "    params = json.load(fp)\n",
    "\n",
    "with open(\"model/best_ckpt_path.txt\", \"r\") as fp:\n",
    "    ckpt_path = fp.read().strip()\n",
    "\n",
    "print(\"▶  Using checkpoint:\", ckpt_path)\n",
    "\n",
    "model = AKIPredictionModel(\n",
    "    hidden_size          = params['hidden_size'],\n",
    "    embedding_size       = params['embedding_size'],\n",
    "    recurrent_num_layers = params['recurrent_num_layers'],\n",
    "    embedding_num_layers = params['embedding_num_layers'],\n",
    "    activation_type      = params['activation_type'],\n",
    "    recurrent_type       = params['recurrent_type'],\n",
    "    seq_len              = 56,\n",
    "    LN                   = bool(params['LN']),\n",
    "    highway_network      = bool(params['highway_network']),\n",
    "    numeric_input_size   = test_dataloader.dataset[0].tensors[0].shape[-1],\n",
    "    presence_input_size  = test_dataloader.dataset[0].tensors[1].shape[-1],\n",
    "    CB                   = bool(params['CB']),\n",
    ").to(device)\n",
    "\n",
    "model.load_state_dict(torch.load(ckpt_path, map_location=device))\n",
    "\n",
    "main_dataset, sub_dataset = test(model, test_dataloader)\n",
    "main_dataset_cal, sub_dataset_cal = test(model, calibration_dataloader)\n",
    "\n",
    "print(\"✅ evaluation complelte & .pt files are saved\")"
   ]
  },
  {
   "cell_type": "markdown",
   "metadata": {},
   "source": [
    "# Dataloader"
   ]
  },
  {
   "cell_type": "code",
   "execution_count": null,
   "metadata": {},
   "outputs": [],
   "source": [
    "main_dataloaders = [DataLoader(dataset, batch_size=1, shuffle=False, drop_last=True) for dataset in main_dataset]\n",
    "sub_dataloaders = [DataLoader(dataset, batch_size=1, shuffle=False, drop_last=True) for dataset in sub_dataset]\n",
    "\n",
    "main_dataloader_6h ,main_dataloader_12h ,main_dataloader_18h ,main_dataloader_24h,main_dataloader_30h ,main_dataloader_36h ,main_dataloader_42h ,main_dataloader_48h = main_dataloaders\n",
    "sub_dataloader_1 ,sub_dataloader_2 ,sub_dataloader_3, sub_dataloader_3D = sub_dataloaders"
   ]
  },
  {
   "cell_type": "code",
   "execution_count": null,
   "metadata": {},
   "outputs": [],
   "source": [
    "main_dataloaders_cal = [DataLoader(dataset, batch_size=1, shuffle=False, drop_last=True) for dataset in main_dataset_cal]\n",
    "sub_dataloaders_cal = [DataLoader(dataset, batch_size=1, shuffle=False, drop_last=True) for dataset in sub_dataset_cal]\n",
    "\n",
    "main_dataloader_6h_cal, main_dataloader_12h_cal, main_dataloader_18h_cal, main_dataloader_24h_cal, main_dataloader_30h_cal, main_dataloader_36h_cal, main_dataloader_42h_cal, main_dataloader_48h_cal = main_dataloaders_cal\n",
    "sub_dataloader_1_cal, sub_dataloader_2_cal, sub_dataloader_3_cal, sub_dataloader_3D_cal = sub_dataloaders_cal"
   ]
  },
  {
   "cell_type": "markdown",
   "metadata": {},
   "source": [
    "# Probability Curve"
   ]
  },
  {
   "cell_type": "code",
   "execution_count": null,
   "metadata": {},
   "outputs": [],
   "source": [
    "# Main dataloaders\n",
    "plt.figure(figsize=(8, 6), dpi=300)\n",
    "\n",
    "main_dataloaders = [\n",
    "    (main_dataloader_6h, \"6h\"),\n",
    "    (main_dataloader_12h, \"12h\"),\n",
    "    (main_dataloader_18h, \"18h\"),\n",
    "    (main_dataloader_24h, \"24h\"),\n",
    "    (main_dataloader_30h, \"30h\"),\n",
    "    (main_dataloader_36h, \"36h\"),\n",
    "    (main_dataloader_42h, \"42h\"),\n",
    "    (main_dataloader_48h, \"48h\"),\n",
    "]\n",
    "\n",
    "for dataloader, label in main_dataloaders:\n",
    "    y_true, y_scores = module.step_ROC(dataloader)\n",
    "    fraction_of_positives, mean_predicted_value = calibration_curve(y_true, y_scores, n_bins=10)\n",
    "    sns.lineplot(x=mean_predicted_value, y=fraction_of_positives, marker='s', label=label)\n",
    "\n",
    "plt.plot([0, 1], [0, 1], \"k--\", label=\"Perfectly Calibrated\")\n",
    "plt.xlabel(\"Mean Predicted Probability\")\n",
    "plt.ylabel(\"Fraction of Positives\")\n",
    "plt.title(\"Calibration Curve\")\n",
    "plt.legend(loc='upper left')\n",
    "plt.show()"
   ]
  },
  {
   "cell_type": "code",
   "execution_count": null,
   "metadata": {},
   "outputs": [],
   "source": [
    "# Sub dataloaders\n",
    "plt.figure(figsize=(8, 6))\n",
    "\n",
    "sub_dataloaders = [\n",
    "    (sub_dataloader_1, \"1≥\"),\n",
    "    (sub_dataloader_2, \"2≥\"),\n",
    "    (sub_dataloader_3, \"3≥\"),\n",
    "    (sub_dataloader_3D, \"3D\"),\n",
    "]\n",
    "\n",
    "for dataloader, label in sub_dataloaders:\n",
    "    y_true, y_scores = module.step_ROC(dataloader)\n",
    "    fraction_of_positives, mean_predicted_value = calibration_curve(y_true, y_scores, n_bins=10)\n",
    "    sns.lineplot(x=mean_predicted_value, y=fraction_of_positives, marker='s', label=label)\n",
    "\n",
    "plt.plot([0, 1], [0, 1], \"k--\", label=\"Perfectly Calibrated\")\n",
    "plt.xlabel(\"Mean Predicted Probability\")\n",
    "plt.ylabel(\"Fraction of Positives\")\n",
    "plt.title(\"Calibration Curve\")\n",
    "plt.legend()\n",
    "plt.show()"
   ]
  },
  {
   "cell_type": "markdown",
   "metadata": {},
   "source": [
    "# Calibration"
   ]
  },
  {
   "cell_type": "code",
   "execution_count": null,
   "metadata": {},
   "outputs": [],
   "source": [
    "main_targets = [\n",
    "    (\"6h\", main_dataloader_6h_cal, main_dataloader_6h),\n",
    "    (\"12h\", main_dataloader_12h_cal, main_dataloader_12h),\n",
    "    (\"18h\", main_dataloader_18h_cal, main_dataloader_18h),\n",
    "    (\"24h\", main_dataloader_24h_cal, main_dataloader_24h),\n",
    "    (\"30h\", main_dataloader_30h_cal, main_dataloader_30h),\n",
    "    (\"36h\", main_dataloader_36h_cal, main_dataloader_36h),\n",
    "    (\"42h\", main_dataloader_42h_cal, main_dataloader_42h),\n",
    "    (\"48h\", main_dataloader_48h_cal, main_dataloader_48h),\n",
    "]\n",
    "\n",
    "sub_targets = [\n",
    "    (\"1≥\", sub_dataloader_1_cal, sub_dataloader_1),\n",
    "    (\"2≥\", sub_dataloader_2_cal, sub_dataloader_2),\n",
    "    (\"3≥\", sub_dataloader_3_cal, sub_dataloader_3),\n",
    "    (\"3D\", sub_dataloader_3D_cal, sub_dataloader_3D),\n",
    "]\n",
    "\n",
    "for label, cal_loader, raw_loader in main_targets:\n",
    "    calibrated_loader = module.calibration(cal_loader, raw_loader)\n",
    "    globals()[f\"main_dataloader_{label}\"] = calibrated_loader\n",
    "    print(f\"▶ [Main] Result after calibration: {label}\")\n",
    "    module.Result(calibrated_loader)\n",
    "\n",
    "for label, cal_loader, raw_loader in sub_targets:\n",
    "    key = \"sub_dataloader_\" + label.replace(\"≥\", \"\").replace(\"D\", \"D\")\n",
    "    calibrated_loader = module.calibration(cal_loader, raw_loader)\n",
    "    globals()[key] = calibrated_loader\n",
    "    print(f\"▶ [Sub] Result after calibration: {label}\")\n",
    "    module.Result(calibrated_loader)"
   ]
  },
  {
   "cell_type": "markdown",
   "metadata": {},
   "source": [
    "# Calibration Curve"
   ]
  },
  {
   "cell_type": "code",
   "execution_count": null,
   "metadata": {},
   "outputs": [],
   "source": [
    "# Main dataloaders\n",
    "plt.figure(figsize=(8, 6), dpi=300)\n",
    "\n",
    "main_dataloaders = [\n",
    "    (main_dataloader_6h, \"6h\"),\n",
    "    (main_dataloader_12h, \"12h\"),\n",
    "    (main_dataloader_18h, \"18h\"),\n",
    "    (main_dataloader_24h, \"24h\"),\n",
    "    (main_dataloader_30h, \"30h\"),\n",
    "    (main_dataloader_36h, \"36h\"),\n",
    "    (main_dataloader_42h, \"42h\"),\n",
    "    (main_dataloader_48h, \"48h\"),\n",
    "]\n",
    "\n",
    "for dataloader, label in main_dataloaders:\n",
    "    y_true, y_scores = module.step_ROC(dataloader)\n",
    "    fraction_of_positives, mean_predicted_value = calibration_curve(y_true, y_scores, n_bins=10)\n",
    "    sns.lineplot(x=mean_predicted_value, y=fraction_of_positives, marker='s', label=label)\n",
    "\n",
    "plt.plot([0, 1], [0, 1], \"k--\", label=\"Perfectly Calibrated\")\n",
    "plt.xlabel(\"Mean Predicted Probability\")\n",
    "plt.ylabel(\"Fraction of Positives\")\n",
    "plt.title(\"Calibration Curve\")\n",
    "plt.legend(loc='upper left')\n",
    "plt.show()"
   ]
  },
  {
   "cell_type": "code",
   "execution_count": null,
   "metadata": {},
   "outputs": [],
   "source": [
    "# Sub dataloaders\n",
    "plt.figure(figsize=(8, 6))\n",
    "\n",
    "sub_dataloaders = [\n",
    "    (sub_dataloader_1, \"1≥\"),\n",
    "    (sub_dataloader_2, \"2≥\"),\n",
    "    (sub_dataloader_3, \"3≥\"),\n",
    "    (sub_dataloader_3D, \"3D\"),\n",
    "]\n",
    "\n",
    "for dataloader, label in sub_dataloaders:\n",
    "    y_true, y_scores = module.step_ROC(dataloader)\n",
    "    fraction_of_positives, mean_predicted_value = calibration_curve(y_true, y_scores, n_bins=10)\n",
    "    sns.lineplot(x=mean_predicted_value, y=fraction_of_positives, marker='s', label=label)\n",
    "\n",
    "plt.plot([0, 1], [0, 1], \"k--\", label=\"Perfectly Calibrated\")\n",
    "plt.xlabel(\"Mean Predicted Probability\")\n",
    "plt.ylabel(\"Fraction of Positives\")\n",
    "plt.title(\"Calibration Curve\")\n",
    "plt.legend()\n",
    "plt.show()"
   ]
  }
 ],
 "metadata": {
  "kernelspec": {
   "display_name": "MTL-AKI",
   "language": "python",
   "name": "python3"
  },
  "language_info": {
   "codemirror_mode": {
    "name": "ipython",
    "version": 3
   },
   "file_extension": ".py",
   "mimetype": "text/x-python",
   "name": "python",
   "nbconvert_exporter": "python",
   "pygments_lexer": "ipython3",
   "version": "3.11.8"
  },
  "orig_nbformat": 4
 },
 "nbformat": 4,
 "nbformat_minor": 2
}
