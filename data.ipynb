{
 "cells": [
  {
   "cell_type": "code",
   "execution_count": 18,
   "metadata": {},
   "outputs": [],
   "source": [
    "import module\n",
    "import torch\n",
    "import pandas as pd\n",
    "from torch.utils.data import DataLoader\n",
    "from itertools import combinations"
   ]
  },
  {
   "cell_type": "markdown",
   "metadata": {},
   "source": [
    "Data"
   ]
  },
  {
   "cell_type": "code",
   "execution_count": null,
   "metadata": {},
   "outputs": [],
   "source": [
    "stage = pd.read_parquet(\"processed/stage.parquet\")\n",
    "demog = pd.read_parquet(\"processed/demog.parquet\")"
   ]
  },
  {
   "cell_type": "code",
   "execution_count": null,
   "metadata": {},
   "outputs": [],
   "source": [
    "stage = stage.fillna(0)\n",
    "stage = stage.sort_values(by=['stay_id','charttime']).reset_index(drop=True)"
   ]
  },
  {
   "cell_type": "code",
   "execution_count": null,
   "metadata": {},
   "outputs": [],
   "source": [
    "primary_id = demog[demog['anchor_year_group'] != '2020 - 2022']\n",
    "primary_id"
   ]
  },
  {
   "cell_type": "code",
   "execution_count": null,
   "metadata": {},
   "outputs": [],
   "source": [
    "temporal_id = demog[demog['anchor_year_group'] == '2020 - 2022']\n",
    "temporal_id = temporal_id[~temporal_id['subject_id'].isin(primary_id['subject_id'].to_list())]\n",
    "temporal_id"
   ]
  },
  {
   "cell_type": "markdown",
   "metadata": {},
   "source": [
    "# Split : Stratified set to 80% : 5% : 5% : 10%"
   ]
  },
  {
   "cell_type": "code",
   "execution_count": null,
   "metadata": {},
   "outputs": [],
   "source": [
    "stage_primary = stage[stage['subject_id'].isin(primary_id['subject_id'].to_list())]\n",
    "\n",
    "target_subject_id = stage_primary.groupby('subject_id', as_index=False).agg({\n",
    "    'hadm_id': 'max',\n",
    "    'stay_id': 'max',\n",
    "    'Liver_disease': 'max',\n",
    "    'Dehydration / hypovolemia': 'max',\n",
    "    'Hypertension': 'max',\n",
    "    'Renal_disease': 'max',\n",
    "    'Myocardial_infarction': 'max',\n",
    "    'los': 'max',\n",
    "    'Diabetes': 'max',\n",
    "    'Vascular_disease': 'max',\n",
    "    'Congestive_heart_failure': 'max',\n",
    "    'Chronic_pulmonary_disease': 'max',\n",
    "    'race': lambda x: x.mode().iloc[0],    \n",
    "    'age': 'max',\n",
    "    'gender': lambda x: x.mode().iloc[0],   \n",
    "    'first_careunit': lambda x: x.mode().iloc[0], \n",
    "    'RRT': 'max',\n",
    "    'RRT_icu_history': 'max',\n",
    "    'RRT_hosp_history': 'max',\n",
    "    'method': lambda x: x.mode().iloc[0],\n",
    "    'baseline': 'max',\n",
    "    'max_stage': 'max',\n",
    "    'length' : 'max'\n",
    "})\n",
    "\n",
    "target_stay_id = stage_primary.drop_duplicates(subset='stay_id', keep='last')\n",
    "target_stay_id = target_stay_id[['subject_id','hadm_id','stay_id','Liver_disease','Dehydration / hypovolemia','Hypertension','Renal_disease','Myocardial_infarction','los',\n",
    "                           'Diabetes','Vascular_disease','Congestive_heart_failure','Chronic_pulmonary_disease','race','age','gender','first_careunit', 'RRT','RRT_icu_history','RRT_hosp_history','method','baseline','max_stage','length']]"
   ]
  },
  {
   "cell_type": "code",
   "execution_count": null,
   "metadata": {},
   "outputs": [],
   "source": [
    "stratify_cols = ['max_stage','race','gender','Dehydration / hypovolemia','Diabetes','first_careunit']\n",
    "splits_stay, splits_stage = module.split_and_prepare(target_subject_id, target_stay_id, stage_primary, stratify_cols)\n",
    "\n",
    "torch.save(splits_stay, \"processed/splits_stay.pt\")\n",
    "torch.save(splits_stage, \"processed/splits_stage.pt\")\n",
    "\n",
    "train = splits_stage['train']\n",
    "valid = splits_stage['valid']\n",
    "calibration = splits_stage['calibration']\n",
    "test = splits_stage['test']\n",
    "temporal = pd.merge(stage, temporal_id[['stay_id']], on='stay_id', how='inner')\n",
    "\n",
    "subject_id_sets = {\n",
    "    'Train': set(train['subject_id'].drop_duplicates()),\n",
    "    'Validation': set(valid['subject_id'].drop_duplicates()),\n",
    "    'Calibration': set(calibration['subject_id'].drop_duplicates()),\n",
    "    'Test': set(test['subject_id'].drop_duplicates()),\n",
    "    'Temporal': set(temporal['subject_id'].drop_duplicates())\n",
    "}\n",
    "\n",
    "common_subject_ids = []\n",
    "\n",
    "for (name1, ids1), (name2, ids2) in combinations(subject_id_sets.items(), 2):\n",
    "    common = ids1 & ids2\n",
    "    if common:\n",
    "        common_subject_ids.append({'Split 1': name1, 'Split 2': name2, 'Common subject_id': list(common)})\n",
    "\n",
    "if common_subject_ids:\n",
    "    common_df = pd.DataFrame(common_subject_ids)\n",
    "    print(\"Common subject_id between splits:\")\n",
    "    print(common_df)\n",
    "else:\n",
    "    print(\"No common subject_id between any splits.\")"
   ]
  },
  {
   "cell_type": "markdown",
   "metadata": {},
   "source": [
    "# Datasets"
   ]
  },
  {
   "cell_type": "markdown",
   "metadata": {},
   "source": [
    "Features"
   ]
  },
  {
   "cell_type": "code",
   "execution_count": null,
   "metadata": {},
   "outputs": [],
   "source": [
    "Mask = [col for col in stage.columns \n",
    "        if ('mask' in col or 'presence' in col) and 'GT' not in col and col != 'RRT']\n",
    "\n",
    "Diff = [col for col in stage.columns \n",
    "        if 'diff' in col and 'mask' not in col and col != 'charttime_diff']\n",
    "\n",
    "Binary = [col for col in stage.columns \n",
    "          if stage[col].dropna().isin([0, 1]).all() \n",
    "          and stage[col].dropna().nunique() == 2 \n",
    "          and 'GT' not in col and col != 'RRT']\n",
    "\n",
    "Comorb = [\n",
    "    'Liver_disease', 'Dehydration / hypovolemia', 'Hypertension', 'Renal_disease', \n",
    "    'Myocardial_infarction', 'Diabetes', 'Vascular_disease', \n",
    "    'Congestive_heart_failure', 'Chronic_pulmonary_disease'\n",
    "]\n",
    "\n",
    "Demog = [\n",
    "    'BLACK', 'gender', 'Surgical', 'Medical', 'Medical/Surgical', 'Other', \n",
    "    'RRT_hosp_history', 'RRT_icu_history', 'method'\n",
    "]\n",
    "\n",
    "Vaso = [f\"{stat}_{drug}\" for stat in [\"median\", \"max\"] \n",
    "         for drug in ['norad', 'dobut', 'epi', 'vasopressin', 'phenyl', 'dopa', 'milri']]\n",
    "\n",
    "Input = [col for col in stage.columns if 'input' in col]\n",
    "\n",
    "SCr = [col for col in stage.columns \n",
    "       if 'SCr' in col and all(x not in col for x in ['mask', 'GT', 'presence'])] \\\n",
    "      + ['baseline', 'max', 'min', 'median', 'mean', 'ratio']\n",
    "\n",
    "Urine = [col for col in stage.columns \n",
    "         if 'Urine' in col and all(x not in col for x in ['mask', 'GT', 'presence', 'diff']) \n",
    "         and col != 'charttime_diff'] + ['cum_value']\n",
    "\n",
    "Weight = ['Weight']\n",
    "\n",
    "Vital = ['temperature', 'heartrate', 'sbp', 'dbp', 'resprate', 'o2sat']\n",
    "\n",
    "Lab = ['Hemoglobin', 'Hemoglobin_diff', 'WBC', 'Sodium', 'Potassium', 'BUN', 'Platelet',\n",
    "       'Glucose', 'HCO3', 'Chloride', 'Hematocrit', 'AnionGap', 'Calcium']\n",
    "\n",
    "Time = ['age', 'current_charttime']"
   ]
  },
  {
   "cell_type": "markdown",
   "metadata": {},
   "source": [
    "Dataset"
   ]
  },
  {
   "cell_type": "code",
   "execution_count": null,
   "metadata": {},
   "outputs": [],
   "source": [
    "existence_ABC = sorted(set(Mask + Comorb + Binary + Demog))\n",
    "numeric_ABC = sorted(set(SCr + Urine + Weight + Diff + Vaso + Input + Vital + Lab + Time))\n",
    "GT_presence_ABC = [f'GT_presence_{h}' for h in [6, 12, 18, 24, 30, 36, 42, 48]]\n",
    "GT_stage_ABC = ['GT_stage_3D', 'GT_stage_3', 'GT_stage_2', 'GT_stage_1']\n",
    "\n",
    "exclude_feats = {\n",
    "    '6h', '12h', '24h', '6h_mask', '12h_mask', '24h_mask',\n",
    "    'Anuria_12h', 'Anuria_12h_mask', 'cum_value_mask',\n",
    "    'charttime_diff_mask', 'cum_time_diff_mask'\n",
    "}\n",
    "\n",
    "exclude_numeric = {'charttime_diff', 'cum_time_diff', 'cum_value'}\n",
    "\n",
    "existence_D = sorted({col for col in (Mask + Comorb + Binary + Demog) if col not in exclude_feats and 'Urine' not in col})\n",
    "numeric_D = sorted({col for col in (SCr + Weight + Diff + Vaso + Input + Vital + Lab + Time) if col not in exclude_numeric and 'Urine' not in col})\n",
    "\n",
    "GT_presence_D = GT_presence_ABC\n",
    "GT_stage_D = GT_stage_ABC\n",
    "\n",
    "GT_presence_E = [f\"GT_presence_{h}_SCr\" for h in [6, 12, 18, 24, 30, 36, 42, 48]]\n",
    "GT_stage_E = [\"GT_stage_3D_SCr\", \"GT_stage_3_SCr\", \"GT_stage_2_SCr\", \"GT_stage_1_SCr\"]\n",
    "\n",
    "datasets = {}\n",
    "\n",
    "for model_name, existence, numeric, GT_p, GT_s in [\n",
    "    (\"ABC\", existence_ABC, numeric_ABC, GT_presence_ABC, GT_stage_ABC),\n",
    "    (\"D\", existence_D, numeric_D, GT_presence_D, GT_stage_D),\n",
    "    (\"E\", existence_D, numeric_D, GT_presence_E, GT_stage_E),\n",
    "]:\n",
    "    datasets[model_name] = {\n",
    "        \"train\": module.Dataset(train, numeric, existence, GT_p, GT_s),\n",
    "        \"valid\": module.Dataset(valid, numeric, existence, GT_p, GT_s),\n",
    "        \"calibration\": module.Dataset_test(calibration, numeric, existence, GT_p, GT_s),\n",
    "        \"test\": module.Dataset_test(test, numeric, existence, GT_p, GT_s),\n",
    "    }\n",
    "\n",
    "torch.save(datasets, \"processed/datasets.pt\")\n",
    "print(\"✅ Saved to processed/datasets.pt\")"
   ]
  },
  {
   "cell_type": "markdown",
   "metadata": {},
   "source": [
    "Shape"
   ]
  },
  {
   "cell_type": "code",
   "execution_count": null,
   "metadata": {},
   "outputs": [],
   "source": [
    "train_dataloader = DataLoader(datasets['ABC']['train'], batch_size=1, shuffle=False, drop_last=True)\n",
    "valid_dataloader = DataLoader(datasets['ABC']['valid'], batch_size=1, shuffle=False, drop_last=True)\n",
    "calibration_dataloader = DataLoader(datasets['ABC']['calibration'], batch_size=1, shuffle=False, drop_last=True)\n",
    "test_dataloader = DataLoader(datasets['ABC']['test'], batch_size=1, shuffle=False, drop_last=True)"
   ]
  },
  {
   "cell_type": "code",
   "execution_count": null,
   "metadata": {},
   "outputs": [],
   "source": [
    "for batch in train_dataloader.dataset:\n",
    "    X_numeric, X_presence, Y_main, Y_sub, mask = batch.tensors\n",
    "    print(\"X_numeric shape:\", X_numeric.shape)\n",
    "    print(\"X_presence shape:\", X_presence.shape)\n",
    "    print(\"Y_main shape:\", Y_main.shape)\n",
    "    print(\"Y_sub shape:\", Y_sub.shape)\n",
    "    print(\"mask shape:\", mask.shape)"
   ]
  }
 ],
 "metadata": {
  "kernelspec": {
   "display_name": "tobca",
   "language": "python",
   "name": "python3"
  },
  "language_info": {
   "codemirror_mode": {
    "name": "ipython",
    "version": 3
   },
   "file_extension": ".py",
   "mimetype": "text/x-python",
   "name": "python",
   "nbconvert_exporter": "python",
   "pygments_lexer": "ipython3",
   "version": "3.11.8"
  },
  "orig_nbformat": 4
 },
 "nbformat": 4,
 "nbformat_minor": 2
}
