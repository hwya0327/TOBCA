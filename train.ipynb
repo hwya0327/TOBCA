{
 "cells": [
  {
   "cell_type": "code",
   "execution_count": 1,
   "metadata": {},
   "outputs": [
    {
     "name": "stdout",
     "output_type": "stream",
     "text": [
      "INFO: Pandarallel will run on 8 workers.\n",
      "INFO: Pandarallel will use standard multiprocessing data transfer (pipe) to transfer data between the main process and workers.\n",
      "\n",
      "WARNING: You are on Windows. If you detect any issue with pandarallel, be sure you checked out the Troubleshooting page:\n",
      "https://nalepae.github.io/pandarallel/troubleshooting/\n"
     ]
    }
   ],
   "source": [
    "import os\n",
    "import json\n",
    "import random\n",
    "import module\n",
    "import optuna\n",
    "import numpy as np\n",
    "import torch\n",
    "from torch.utils.data import DataLoader"
   ]
  },
  {
   "cell_type": "code",
   "execution_count": 2,
   "metadata": {},
   "outputs": [],
   "source": [
    "seed = 42\n",
    "random.seed(seed)\n",
    "np.random.seed(seed)\n",
    "torch.manual_seed(seed)\n",
    "torch.cuda.manual_seed(seed)\n",
    "torch.cuda.manual_seed_all(seed)\n",
    "torch.backends.cudnn.benchmark = False\n",
    "\n",
    "def seed_worker(worker_id):\n",
    "    worker_seed = torch.initial_seed() % 2**32\n",
    "    np.random.seed(worker_seed)\n",
    "    random.seed(worker_seed)\n",
    "\n",
    "g = torch.Generator()\n",
    "g.manual_seed(0)\n",
    "\n",
    "os.environ['CUDA_LAUNCH_BLOCKING'] = \"1\"\n",
    "os.environ[\"CUDA_VISIBLE_DEVICES\"] = \"0\"\n",
    "os.environ['PYTHONHASHSEED'] = str(seed)"
   ]
  },
  {
   "cell_type": "code",
   "execution_count": 3,
   "metadata": {},
   "outputs": [
    {
     "name": "stdout",
     "output_type": "stream",
     "text": [
      "2.2.1\n",
      "True\n",
      "1\n",
      "12.1\n",
      "학습을 진행하는 기기: cuda:0\n"
     ]
    }
   ],
   "source": [
    "print(torch.__version__)\n",
    "print(torch.cuda.is_available())\n",
    "print(torch.cuda.device_count())\n",
    "print(torch.version.cuda)\n",
    "print('학습을 진행하는 기기:', torch.device('cuda:0' if torch.cuda.is_available() else 'cpu'))\n",
    "device = torch.device('cuda:0' if torch.cuda.is_available() else 'cpu')\n",
    "\n",
    "torch.set_printoptions(precision=4, sci_mode=False)\n",
    "torch.backends.cudnn.enabled = False\n",
    "torch.backends.cudnn.allow_tf32 = True\n",
    "torch.backends.cudnn.deterministic = True"
   ]
  },
  {
   "cell_type": "markdown",
   "metadata": {},
   "source": [
    "Data"
   ]
  },
  {
   "cell_type": "code",
   "execution_count": 4,
   "metadata": {},
   "outputs": [],
   "source": [
    "train_dataset = torch.load(\"processed/datasets.pt\")['ABC']['train']\n",
    "valid_dataset = torch.load(\"processed/datasets.pt\")['ABC']['valid']"
   ]
  },
  {
   "cell_type": "code",
   "execution_count": 5,
   "metadata": {},
   "outputs": [],
   "source": [
    "dataloaders = []\n",
    "dataset_names = [\"train\", \"valid\"]\n",
    "\n",
    "for name in dataset_names:\n",
    "    dataloader = DataLoader(eval(name + \"_dataset\"), batch_size=1, shuffle=True, drop_last=False)\n",
    "    dataloaders.append(dataloader)\n",
    "\n",
    "train_dataloader, valid_dataloader = dataloaders"
   ]
  },
  {
   "cell_type": "markdown",
   "metadata": {},
   "source": [
    "Overweight for positive weight"
   ]
  },
  {
   "cell_type": "code",
   "execution_count": 6,
   "metadata": {},
   "outputs": [],
   "source": [
    "train = torch.load(\"processed/splits_stage.pt\")['train']\n",
    "valid = torch.load(\"processed/splits_stage.pt\")['valid']\n",
    "train_id = torch.load(\"processed/splits_stay.pt\")['train']\n",
    "valid_id = torch.load(\"processed/splits_stay.pt\")['valid']"
   ]
  },
  {
   "cell_type": "code",
   "execution_count": 7,
   "metadata": {},
   "outputs": [],
   "source": [
    "pos_weights_main_train = module.compute_pos_weights_presence(train)\n",
    "rrt_weight_train = module.compute_rrt_pos_weight(train_id)\n",
    "pos_weights_sub_train = module.compute_pos_weights_stage(\n",
    "    train,\n",
    "    stage_cols=[f\"GT_stage_{s}\" for s in [3, 2, 1]],\n",
    "    rrt_weight=rrt_weight_train\n",
    ")"
   ]
  },
  {
   "cell_type": "code",
   "execution_count": 8,
   "metadata": {},
   "outputs": [],
   "source": [
    "pos_weights_main_valid = module.compute_pos_weights_presence(valid)\n",
    "rrt_weight_valid = module.compute_rrt_pos_weight(valid_id)\n",
    "pos_weights_sub_valid = module.compute_pos_weights_stage(\n",
    "    valid,\n",
    "    stage_cols=[f\"GT_stage_{s}\" for s in [3, 2, 1]],\n",
    "    rrt_weight=rrt_weight_valid\n",
    ")"
   ]
  },
  {
   "cell_type": "code",
   "execution_count": 9,
   "metadata": {},
   "outputs": [],
   "source": [
    "pos_weights = [pos_weights_main_train, pos_weights_sub_train, pos_weights_main_valid, pos_weights_sub_valid]"
   ]
  },
  {
   "cell_type": "markdown",
   "metadata": {},
   "source": [
    "# Train"
   ]
  },
  {
   "cell_type": "code",
   "execution_count": 10,
   "metadata": {},
   "outputs": [
    {
     "name": "stderr",
     "output_type": "stream",
     "text": [
      "[I 2025-04-23 13:14:03,244] A new study created in memory with name: no-name-065801e2-14eb-46ab-8825-4fc6498cb146\n",
      "[I 2025-04-23 13:38:05,766] Trial 0 finished with value: 0.5942367315292358 and parameters: {'hidden_size': 100, 'embedding_size': 100, 'recurrent_num_layers': 2, 'embedding_num_layers': 3, 'CB': 0, 'recurrent_type': 'GRU', 'activation_type': 'LeakyReLU', 'batchsize': 256, 'learning_rate': 0.01, 'lr_decay_steps': 800, 'lr_decay_factor': 0.85, 'highway_network': 1, 'LD': 1, 'LN': 1, 'CDF': 1}. Best is trial 0 with value: 0.5942367315292358.\n",
      "[I 2025-04-23 14:56:40,594] Trial 1 finished with value: 0.7597103714942932 and parameters: {'hidden_size': 200, 'embedding_size': 50, 'recurrent_num_layers': 1, 'embedding_num_layers': 5, 'CB': 0, 'recurrent_type': 'GRU', 'activation_type': 'ReLU', 'batchsize': 64, 'learning_rate': 0.001, 'lr_decay_steps': 800, 'lr_decay_factor': 0.85, 'highway_network': 0, 'LD': 1, 'LN': 1, 'CDF': 0}. Best is trial 0 with value: 0.5942367315292358.\n",
      "[I 2025-04-23 15:11:53,675] Trial 2 finished with value: 0.8511862754821777 and parameters: {'hidden_size': 200, 'embedding_size': 100, 'recurrent_num_layers': 2, 'embedding_num_layers': 5, 'CB': 1, 'recurrent_type': 'RNN', 'activation_type': 'SELU', 'batchsize': 256, 'learning_rate': 0.001, 'lr_decay_steps': 400, 'lr_decay_factor': 0.85, 'highway_network': 1, 'LD': 0, 'LN': 1, 'CDF': 1}. Best is trial 0 with value: 0.5942367315292358.\n",
      "[I 2025-04-23 16:49:41,138] Trial 3 finished with value: 1.090487003326416 and parameters: {'hidden_size': 50, 'embedding_size': 50, 'recurrent_num_layers': 2, 'embedding_num_layers': 5, 'CB': 1, 'recurrent_type': 'LSTM', 'activation_type': 'ELU', 'batchsize': 512, 'learning_rate': 0.0001, 'lr_decay_steps': 800, 'lr_decay_factor': 0.9, 'highway_network': 1, 'LD': 0, 'LN': 0, 'CDF': 0}. Best is trial 0 with value: 0.5942367315292358.\n",
      "[I 2025-04-23 17:05:53,368] Trial 4 finished with value: 1.1768900156021118 and parameters: {'hidden_size': 100, 'embedding_size': 50, 'recurrent_num_layers': 4, 'embedding_num_layers': 3, 'CB': 1, 'recurrent_type': 'RNN', 'activation_type': 'CELU', 'batchsize': 64, 'learning_rate': 0.01, 'lr_decay_steps': 200, 'lr_decay_factor': 0.85, 'highway_network': 1, 'LD': 1, 'LN': 1, 'CDF': 0}. Best is trial 0 with value: 0.5942367315292358.\n",
      "[I 2025-04-23 17:48:20,894] Trial 5 finished with value: 0.6536052227020264 and parameters: {'hidden_size': 100, 'embedding_size': 75, 'recurrent_num_layers': 2, 'embedding_num_layers': 5, 'CB': 1, 'recurrent_type': 'GRU', 'activation_type': 'CELU', 'batchsize': 256, 'learning_rate': 0.001, 'lr_decay_steps': 800, 'lr_decay_factor': 0.95, 'highway_network': 1, 'LD': 1, 'LN': 1, 'CDF': 1}. Best is trial 0 with value: 0.5942367315292358.\n",
      "[I 2025-04-23 18:49:15,301] Trial 6 finished with value: 0.7076359987258911 and parameters: {'hidden_size': 200, 'embedding_size': 75, 'recurrent_num_layers': 5, 'embedding_num_layers': 2, 'CB': 1, 'recurrent_type': 'GRU', 'activation_type': 'SELU', 'batchsize': 128, 'learning_rate': 0.001, 'lr_decay_steps': 800, 'lr_decay_factor': 0.7, 'highway_network': 0, 'LD': 0, 'LN': 1, 'CDF': 1}. Best is trial 0 with value: 0.5942367315292358.\n",
      "[I 2025-04-23 18:52:52,228] Trial 7 finished with value: 2.14538836479187 and parameters: {'hidden_size': 200, 'embedding_size': 75, 'recurrent_num_layers': 3, 'embedding_num_layers': 5, 'CB': 0, 'recurrent_type': 'RNN', 'activation_type': 'CELU', 'batchsize': 512, 'learning_rate': 0.01, 'lr_decay_steps': 200, 'lr_decay_factor': 0.95, 'highway_network': 1, 'LD': 1, 'LN': 0, 'CDF': 1}. Best is trial 0 with value: 0.5942367315292358.\n",
      "[I 2025-04-23 19:06:49,222] Trial 8 finished with value: 1.0086867809295654 and parameters: {'hidden_size': 200, 'embedding_size': 75, 'recurrent_num_layers': 5, 'embedding_num_layers': 3, 'CB': 0, 'recurrent_type': 'GRU', 'activation_type': 'ReLU', 'batchsize': 128, 'learning_rate': 0.001, 'lr_decay_steps': 200, 'lr_decay_factor': 0.7, 'highway_network': 0, 'LD': 1, 'LN': 1, 'CDF': 0}. Best is trial 0 with value: 0.5942367315292358.\n",
      "[I 2025-04-23 19:08:33,331] Trial 9 finished with value: 2.142559766769409 and parameters: {'hidden_size': 200, 'embedding_size': 25, 'recurrent_num_layers': 3, 'embedding_num_layers': 5, 'CB': 0, 'recurrent_type': 'LSTM', 'activation_type': 'LeakyReLU', 'batchsize': 256, 'learning_rate': 0.01, 'lr_decay_steps': 200, 'lr_decay_factor': 0.8, 'highway_network': 0, 'LD': 0, 'LN': 0, 'CDF': 0}. Best is trial 0 with value: 0.5942367315292358.\n",
      "[I 2025-04-23 19:32:12,703] Trial 10 finished with value: 2.620326519012451 and parameters: {'hidden_size': 50, 'embedding_size': 100, 'recurrent_num_layers': 1, 'embedding_num_layers': 1, 'CB': 0, 'recurrent_type': 'GRU', 'activation_type': 'LeakyReLU', 'batchsize': 256, 'learning_rate': 0.0001, 'lr_decay_steps': 100, 'lr_decay_factor': 0.8, 'highway_network': 1, 'LD': 1, 'LN': 0, 'CDF': 1}. Best is trial 0 with value: 0.5942367315292358.\n",
      "[I 2025-04-23 20:05:02,272] Trial 11 finished with value: 0.6564135551452637 and parameters: {'hidden_size': 100, 'embedding_size': 100, 'recurrent_num_layers': 2, 'embedding_num_layers': 4, 'CB': 1, 'recurrent_type': 'GRU', 'activation_type': 'GELU', 'batchsize': 256, 'learning_rate': 0.01, 'lr_decay_steps': 800, 'lr_decay_factor': 0.95, 'highway_network': 1, 'LD': 1, 'LN': 1, 'CDF': 1}. Best is trial 0 with value: 0.5942367315292358.\n",
      "[I 2025-04-23 20:28:25,990] Trial 12 finished with value: 1.0951560735702515 and parameters: {'hidden_size': 100, 'embedding_size': 100, 'recurrent_num_layers': 2, 'embedding_num_layers': 2, 'CB': 1, 'recurrent_type': 'GRU', 'activation_type': 'Tanh', 'batchsize': 256, 'learning_rate': 0.01, 'lr_decay_steps': 800, 'lr_decay_factor': 0.95, 'highway_network': 1, 'LD': 1, 'LN': 1, 'CDF': 1}. Best is trial 0 with value: 0.5942367315292358.\n",
      "[I 2025-04-23 21:50:08,474] Trial 13 finished with value: 0.6587655544281006 and parameters: {'hidden_size': 150, 'embedding_size': 75, 'recurrent_num_layers': 1, 'embedding_num_layers': 4, 'CB': 0, 'recurrent_type': 'GRU', 'activation_type': 'LeakyReLU', 'batchsize': 256, 'learning_rate': 0.001, 'lr_decay_steps': 400, 'lr_decay_factor': 0.9, 'highway_network': 1, 'LD': 1, 'LN': 1, 'CDF': 1}. Best is trial 0 with value: 0.5942367315292358.\n",
      "[I 2025-04-23 22:21:34,853] Trial 14 finished with value: 1.1777901649475098 and parameters: {'hidden_size': 150, 'embedding_size': 100, 'recurrent_num_layers': 3, 'embedding_num_layers': 4, 'CB': 0, 'recurrent_type': 'GRU', 'activation_type': 'CELU', 'batchsize': 256, 'learning_rate': 0.0001, 'lr_decay_steps': 100, 'lr_decay_factor': 0.95, 'highway_network': 1, 'LD': 1, 'LN': 1, 'CDF': 1}. Best is trial 0 with value: 0.5942367315292358.\n",
      "[I 2025-04-23 23:17:39,082] Trial 15 finished with value: 0.8760477900505066 and parameters: {'hidden_size': 100, 'embedding_size': 75, 'recurrent_num_layers': 4, 'embedding_num_layers': 2, 'CB': 1, 'recurrent_type': 'LSTM', 'activation_type': 'GELU', 'batchsize': 256, 'learning_rate': 0.001, 'lr_decay_steps': 800, 'lr_decay_factor': 0.85, 'highway_network': 1, 'LD': 1, 'LN': 1, 'CDF': 1}. Best is trial 0 with value: 0.5942367315292358.\n",
      "[I 2025-04-23 23:59:34,262] Trial 16 finished with value: 0.5611597299575806 and parameters: {'hidden_size': 50, 'embedding_size': 25, 'recurrent_num_layers': 2, 'embedding_num_layers': 3, 'CB': 0, 'recurrent_type': 'GRU', 'activation_type': 'ELU', 'batchsize': 512, 'learning_rate': 0.01, 'lr_decay_steps': 800, 'lr_decay_factor': 0.85, 'highway_network': 1, 'LD': 1, 'LN': 1, 'CDF': 1}. Best is trial 16 with value: 0.5611597299575806.\n",
      "[I 2025-04-24 00:41:20,729] Trial 17 finished with value: 0.5683064460754395 and parameters: {'hidden_size': 50, 'embedding_size': 25, 'recurrent_num_layers': 4, 'embedding_num_layers': 3, 'CB': 0, 'recurrent_type': 'GRU', 'activation_type': 'ELU', 'batchsize': 512, 'learning_rate': 0.01, 'lr_decay_steps': 800, 'lr_decay_factor': 0.85, 'highway_network': 1, 'LD': 1, 'LN': 1, 'CDF': 1}. Best is trial 16 with value: 0.5611597299575806.\n",
      "[I 2025-04-24 00:55:05,515] Trial 18 finished with value: 1.3827077150344849 and parameters: {'hidden_size': 50, 'embedding_size': 25, 'recurrent_num_layers': 4, 'embedding_num_layers': 1, 'CB': 0, 'recurrent_type': 'LSTM', 'activation_type': 'ELU', 'batchsize': 512, 'learning_rate': 0.01, 'lr_decay_steps': 400, 'lr_decay_factor': 0.85, 'highway_network': 0, 'LD': 0, 'LN': 0, 'CDF': 1}. Best is trial 16 with value: 0.5611597299575806.\n",
      "[I 2025-04-24 01:05:08,901] Trial 19 finished with value: 0.8665010333061218 and parameters: {'hidden_size': 50, 'embedding_size': 25, 'recurrent_num_layers': 3, 'embedding_num_layers': 2, 'CB': 0, 'recurrent_type': 'RNN', 'activation_type': 'ELU', 'batchsize': 512, 'learning_rate': 0.01, 'lr_decay_steps': 100, 'lr_decay_factor': 0.85, 'highway_network': 1, 'LD': 1, 'LN': 1, 'CDF': 1}. Best is trial 16 with value: 0.5611597299575806.\n",
      "[I 2025-04-24 01:47:53,158] Trial 20 finished with value: 0.6247308254241943 and parameters: {'hidden_size': 50, 'embedding_size': 25, 'recurrent_num_layers': 4, 'embedding_num_layers': 3, 'CB': 0, 'recurrent_type': 'GRU', 'activation_type': 'ELU', 'batchsize': 512, 'learning_rate': 0.01, 'lr_decay_steps': 800, 'lr_decay_factor': 0.85, 'highway_network': 1, 'LD': 1, 'LN': 1, 'CDF': 1}. Best is trial 16 with value: 0.5611597299575806.\n",
      "[I 2025-04-24 02:22:01,378] Trial 21 finished with value: 0.5202135443687439 and parameters: {'hidden_size': 50, 'embedding_size': 50, 'recurrent_num_layers': 2, 'embedding_num_layers': 3, 'CB': 0, 'recurrent_type': 'GRU', 'activation_type': 'ELU', 'batchsize': 512, 'learning_rate': 0.01, 'lr_decay_steps': 800, 'lr_decay_factor': 0.85, 'highway_network': 1, 'LD': 1, 'LN': 1, 'CDF': 1}. Best is trial 21 with value: 0.5202135443687439.\n",
      "[I 2025-04-24 02:53:34,707] Trial 22 finished with value: 0.573686957359314 and parameters: {'hidden_size': 50, 'embedding_size': 50, 'recurrent_num_layers': 1, 'embedding_num_layers': 3, 'CB': 0, 'recurrent_type': 'GRU', 'activation_type': 'ELU', 'batchsize': 512, 'learning_rate': 0.01, 'lr_decay_steps': 800, 'lr_decay_factor': 0.85, 'highway_network': 1, 'LD': 1, 'LN': 1, 'CDF': 1}. Best is trial 21 with value: 0.5202135443687439.\n",
      "[I 2025-04-24 03:29:23,227] Trial 23 finished with value: 0.567874550819397 and parameters: {'hidden_size': 50, 'embedding_size': 25, 'recurrent_num_layers': 3, 'embedding_num_layers': 4, 'CB': 0, 'recurrent_type': 'GRU', 'activation_type': 'ELU', 'batchsize': 512, 'learning_rate': 0.01, 'lr_decay_steps': 800, 'lr_decay_factor': 0.85, 'highway_network': 1, 'LD': 1, 'LN': 1, 'CDF': 1}. Best is trial 21 with value: 0.5202135443687439.\n",
      "[I 2025-04-24 04:16:09,379] Trial 24 finished with value: 0.5935042500495911 and parameters: {'hidden_size': 50, 'embedding_size': 25, 'recurrent_num_layers': 3, 'embedding_num_layers': 4, 'CB': 0, 'recurrent_type': 'GRU', 'activation_type': 'ELU', 'batchsize': 512, 'learning_rate': 0.01, 'lr_decay_steps': 800, 'lr_decay_factor': 0.85, 'highway_network': 1, 'LD': 1, 'LN': 1, 'CDF': 1}. Best is trial 21 with value: 0.5202135443687439.\n",
      "[I 2025-04-24 04:36:22,975] Trial 25 finished with value: 0.875472903251648 and parameters: {'hidden_size': 50, 'embedding_size': 50, 'recurrent_num_layers': 2, 'embedding_num_layers': 4, 'CB': 0, 'recurrent_type': 'GRU', 'activation_type': 'Tanh', 'batchsize': 512, 'learning_rate': 0.01, 'lr_decay_steps': 800, 'lr_decay_factor': 0.7, 'highway_network': 1, 'LD': 1, 'LN': 1, 'CDF': 1}. Best is trial 21 with value: 0.5202135443687439.\n",
      "[I 2025-04-24 06:09:16,850] Trial 26 finished with value: 1.1422696113586426 and parameters: {'hidden_size': 150, 'embedding_size': 25, 'recurrent_num_layers': 3, 'embedding_num_layers': 4, 'CB': 0, 'recurrent_type': 'GRU', 'activation_type': 'ELU', 'batchsize': 512, 'learning_rate': 0.0001, 'lr_decay_steps': 800, 'lr_decay_factor': 0.8, 'highway_network': 0, 'LD': 0, 'LN': 0, 'CDF': 0}. Best is trial 21 with value: 0.5202135443687439.\n",
      "[I 2025-04-24 06:16:26,006] Trial 27 finished with value: 0.9571967124938965 and parameters: {'hidden_size': 50, 'embedding_size': 50, 'recurrent_num_layers': 2, 'embedding_num_layers': 2, 'CB': 0, 'recurrent_type': 'GRU', 'activation_type': 'ELU', 'batchsize': 128, 'learning_rate': 0.01, 'lr_decay_steps': 100, 'lr_decay_factor': 0.9, 'highway_network': 1, 'LD': 1, 'LN': 1, 'CDF': 1}. Best is trial 21 with value: 0.5202135443687439.\n",
      "[I 2025-04-24 06:44:13,611] Trial 28 finished with value: 0.8589322566986084 and parameters: {'hidden_size': 100, 'embedding_size': 25, 'recurrent_num_layers': 3, 'embedding_num_layers': 4, 'CB': 0, 'recurrent_type': 'LSTM', 'activation_type': 'ELU', 'batchsize': 64, 'learning_rate': 0.01, 'lr_decay_steps': 400, 'lr_decay_factor': 0.85, 'highway_network': 1, 'LD': 1, 'LN': 1, 'CDF': 1}. Best is trial 21 with value: 0.5202135443687439.\n",
      "[I 2025-04-24 07:00:54,696] Trial 29 finished with value: 0.88902747631073 and parameters: {'hidden_size': 50, 'embedding_size': 50, 'recurrent_num_layers': 2, 'embedding_num_layers': 3, 'CB': 0, 'recurrent_type': 'RNN', 'activation_type': 'ELU', 'batchsize': 512, 'learning_rate': 0.01, 'lr_decay_steps': 800, 'lr_decay_factor': 0.85, 'highway_network': 1, 'LD': 1, 'LN': 1, 'CDF': 1}. Best is trial 21 with value: 0.5202135443687439.\n"
     ]
    },
    {
     "name": "stdout",
     "output_type": "stream",
     "text": [
      "Best Hyperparameters: {'hidden_size': 50, 'embedding_size': 50, 'recurrent_num_layers': 2, 'embedding_num_layers': 3, 'CB': 0, 'recurrent_type': 'GRU', 'activation_type': 'ELU', 'batchsize': 512, 'learning_rate': 0.01, 'lr_decay_steps': 800, 'lr_decay_factor': 0.85, 'highway_network': 1, 'LD': 1, 'LN': 1, 'CDF': 1}\n",
      "Best Validation Loss: 0.5202135443687439\n"
     ]
    }
   ],
   "source": [
    "if __name__ == \"__main__\":\n",
    "    study  = optuna.create_study(direction=\"minimize\")\n",
    "    study.optimize(\n",
    "    lambda trial: module.objective(trial, train_dataloader, valid_dataloader, pos_weights, device),\n",
    "    n_trials=30\n",
    "    )\n",
    "\n",
    "    print(\"Best Hyperparameters:\", study.best_params)\n",
    "    print(\"Best Validation Loss:\", study.best_value)"
   ]
  },
  {
   "cell_type": "code",
   "execution_count": 11,
   "metadata": {},
   "outputs": [
    {
     "name": "stdout",
     "output_type": "stream",
     "text": [
      "✅ Optuna Completed\n",
      "  • Best params saved  ➜ model/best_params.json\n",
      "  • Best model saved   ➜ model/trial_22_model.pt\n",
      "  • Best valid loss    ➜ 0.5202135443687439\n"
     ]
    }
   ],
   "source": [
    "best_params_path = \"model/best_params.json\"\n",
    "os.makedirs(\"model\", exist_ok=True)\n",
    "\n",
    "with open(best_params_path, \"w\") as fp:\n",
    "    json.dump(study.best_params, fp, indent=2)\n",
    "\n",
    "best_trial_num   = study.best_trial.number + 1 \n",
    "best_ckpt_path   = f\"model/trial_{best_trial_num}_model.pt\"\n",
    "\n",
    "with open(\"model/best_ckpt_path.txt\", \"w\") as fp:\n",
    "    fp.write(best_ckpt_path)\n",
    "\n",
    "print(\"✅ Optuna Completed\")\n",
    "print(\"  • Best params saved  ➜\", best_params_path)\n",
    "print(\"  • Best model saved   ➜\", best_ckpt_path)\n",
    "print(\"  • Best valid loss    ➜\", study.best_value)"
   ]
  }
 ],
 "metadata": {
  "kernelspec": {
   "display_name": "tobca",
   "language": "python",
   "name": "python3"
  },
  "language_info": {
   "codemirror_mode": {
    "name": "ipython",
    "version": 3
   },
   "file_extension": ".py",
   "mimetype": "text/x-python",
   "name": "python",
   "nbconvert_exporter": "python",
   "pygments_lexer": "ipython3",
   "version": "3.11.8"
  },
  "orig_nbformat": 4
 },
 "nbformat": 4,
 "nbformat_minor": 2
}
